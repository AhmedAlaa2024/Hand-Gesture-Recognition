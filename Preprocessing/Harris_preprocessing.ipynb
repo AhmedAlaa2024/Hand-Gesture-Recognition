{
 "cells": [
  {
   "cell_type": "code",
   "execution_count": 9,
   "metadata": {},
   "outputs": [],
   "source": [
    "import numpy as np\n",
    "import cv2"
   ]
  },
  {
   "cell_type": "code",
   "execution_count": 10,
   "metadata": {},
   "outputs": [],
   "source": [
    "def shadow_remove(img):\n",
    "    rgb_planes = cv2.split(img)\n",
    "    result_norm_planes = []\n",
    "    for plane in rgb_planes:\n",
    "        dilated_img = cv2.dilate(plane, np.ones((7,7), np.uint8))\n",
    "        bg_img = cv2.medianBlur(dilated_img, 21)\n",
    "        diff_img = 255 - cv2.absdiff(plane, bg_img)\n",
    "        norm_img = cv2.normalize(diff_img,None, alpha=0, beta=255, norm_type=cv2.NORM_MINMAX, dtype=cv2.CV_8UC1)\n",
    "        result_norm_planes.append(norm_img)\n",
    "    shadowremov = cv2.merge(result_norm_planes)\n",
    "    return shadowremov"
   ]
  },
  {
   "cell_type": "code",
   "execution_count": 11,
   "metadata": {},
   "outputs": [],
   "source": [
    "def preprocessing_harris(image):\n",
    "    #1-Resizing image\n",
    "    scale_percent = 30\n",
    "    # percent of original size\n",
    "    width = int(image.shape[1] * scale_percent / 100)\n",
    "    height = int(image.shape[0] * scale_percent / 100)\n",
    "    dim = (width, height)\n",
    "    resized_image = cv2.resize(image, dim, interpolation = cv2.INTER_AREA)\n",
    "    shad_image = shadow_remove(resized_image)\n",
    "    #3-Gray-Scale\n",
    "    gray = cv2.cvtColor(shad_image, cv2.COLOR_BGR2GRAY)\n",
    "    #2-Smoothing\n",
    "    blured_image=cv2.GaussianBlur(gray,(5,5),cv2.BORDER_DEFAULT)\n",
    "    #4 thresholding\n",
    "    thresh = cv2.threshold(blured_image, 0, 255, cv2.THRESH_BINARY_INV + cv2.THRESH_OTSU)[1]\n",
    "    #Remove dotted lines\n",
    "    cnts = cv2.findContours(thresh, cv2.RETR_EXTERNAL, cv2.CHAIN_APPROX_SIMPLE)\n",
    "    cnts = cnts[0] if len(cnts) == 2 else cnts[1]\n",
    "    for c in cnts:\n",
    "        area = cv2.contourArea(c)\n",
    "        if area < cv2.contourArea(cnts[len(cnts)-1]):\n",
    "            cv2.drawContours(thresh, [c], -1, (0,0,0), -1)\n",
    "    # Fill contours\n",
    "    close_kernel = cv2.getStructuringElement(cv2.MORPH_RECT, (5,5))\n",
    "    close = 255 - cv2.morphologyEx(thresh, cv2.MORPH_CLOSE, close_kernel, iterations=6)\n",
    "    # Smooth contours\n",
    "    close = 255 - close\n",
    "    return thresh,resized_image\n",
    "# grayscale color space\n",
    "#     gray = cv2.cvtColor(resized_image, cv2.COLOR_BGR2GRAY)\n",
    "#     gray = np.float32(gray)\n",
    "#     return gray,resized_image"
   ]
  },
  {
   "cell_type": "code",
   "execution_count": 12,
   "metadata": {},
   "outputs": [],
   "source": [
    "# image = cv2.imread('E:/2nd term 3rd year/Neural Network/Project/men/'+str(2)+'/'+str(2)+'_men ('+str(27)+').JPG', cv2.IMREAD_UNCHANGED)\n",
    "# img,r=preprocessing_harris(image)\n",
    "# cv2.imshow('sample image',img)\n",
    "\n",
    "# cv2.waitKey(0) # waits until a key is pressed\n",
    "# cv2.destroyAllWindows() # destroys the window showing image"
   ]
  }
 ],
 "metadata": {
  "kernelspec": {
   "display_name": "Python 3",
   "language": "python",
   "name": "python3"
  },
  "language_info": {
   "codemirror_mode": {
    "name": "ipython",
    "version": 3
   },
   "file_extension": ".py",
   "mimetype": "text/x-python",
   "name": "python",
   "nbconvert_exporter": "python",
   "pygments_lexer": "ipython3",
   "version": "3.11.2"
  },
  "orig_nbformat": 4
 },
 "nbformat": 4,
 "nbformat_minor": 2
}
