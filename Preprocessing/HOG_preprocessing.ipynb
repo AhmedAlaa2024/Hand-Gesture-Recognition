{
 "cells": [
  {
   "cell_type": "code",
   "execution_count": 5,
   "metadata": {},
   "outputs": [],
   "source": [
    "import cv2\n",
    "import numpy as np\n",
    "import matplotlib.pyplot as plt\n",
    "from skimage import exposure"
   ]
  },
  {
   "cell_type": "code",
   "execution_count": 6,
   "metadata": {},
   "outputs": [],
   "source": [
    "def shadow_remove(img):\n",
    "    rgb_planes = cv2.split(img)\n",
    "    result_norm_planes = []\n",
    "    for plane in rgb_planes:\n",
    "        dilated_img = cv2.dilate(plane, np.ones((7,7), np.uint8))\n",
    "        bg_img = cv2.medianBlur(dilated_img, 21)\n",
    "        diff_img = 255 - cv2.absdiff(plane, bg_img)\n",
    "        norm_img = cv2.normalize(diff_img,None, alpha=0, beta=255, norm_type=cv2.NORM_MINMAX, dtype=cv2.CV_8UC1)\n",
    "        result_norm_planes.append(norm_img)\n",
    "    shadowremov = cv2.merge(result_norm_planes)\n",
    "    return shadowremov"
   ]
  },
  {
   "cell_type": "code",
   "execution_count": 7,
   "metadata": {},
   "outputs": [],
   "source": [
    "# def hog_preprocessing(image):\n",
    "#     image=cv2.cvtColor(image, cv2.COLOR_BGR2RGB)\n",
    "#     resized_image = cv2.resize(image,(500,500))\n",
    "#     shad_image = shadow_remove(resized_image)\n",
    "#     grayscale_image = cv2.cvtColor(shad_image, cv2.COLOR_BGR2GRAY)\n",
    "#     filtered_image  = cv2.GaussianBlur(grayscale_image, (3, 3), 1.0)\n",
    "#     clahe = cv2.createCLAHE(clipLimit=2.0, tileGridSize=(8,8))\n",
    "#     normalized_image = clahe.apply(filtered_image)\n",
    "#     img_array = np.array(normalized_image, dtype=np.float32) / 255.0\n",
    "#     corrected_array = np.power(img_array, 0.5)\n",
    "#     corrected_image = np.uint8(corrected_array * 255.0)\n",
    "#     resized_image = cv2.resize(corrected_image,(128,128))\n",
    "#     return resized_image"
   ]
  },
  {
   "cell_type": "code",
   "execution_count": 8,
   "metadata": {},
   "outputs": [],
   "source": [
    "def hog_preprocessing(image):\n",
    "    image=cv2.cvtColor(image, cv2.COLOR_BGR2RGB)\n",
    "    filtered_image  = cv2.GaussianBlur(image, (3, 3), 1.0)\n",
    "    # resized_image = cv2.resize(filtered_image,(500,500))\n",
    "    # scale_percent = 10\n",
    "    # # percent of original size\n",
    "    # width = int(image.shape[1] * scale_percent / 100)\n",
    "    # height = int(image.shape[0] * scale_percent / 100)\n",
    "    dim = (500, 500)\n",
    "    resized_image = cv2.resize(filtered_image,dim)\n",
    "    #======================================Color Segmentation========================#\n",
    "    hsv_image = cv2.cvtColor(resized_image, cv2.COLOR_RGB2HSV)\n",
    "    light_skin = (0, 50, 50 )\n",
    "    dark_skin = (50, 250, 255)\n",
    "    mask = cv2.inRange(hsv_image, light_skin, dark_skin)\n",
    "    #Define the kernel for closing\n",
    "    kernel = cv2.getStructuringElement(cv2.MORPH_ELLIPSE, (7, 7))\n",
    "    # Perform closing on the thresholded image)\n",
    "    mask = cv2.morphologyEx(mask, cv2.MORPH_CLOSE, kernel,iterations=10)\n",
    "    result = cv2.bitwise_and(resized_image, resized_image, mask=mask)\n",
    "    # resized_image = cv2.resize(result,(128,128))\n",
    "    # scale_percent = 30\n",
    "    # # percent of original size\n",
    "    # width = int(image.shape[1] * scale_percent / 100)\n",
    "    # height = int(image.shape[0] * scale_percent / 100)\n",
    "    dim = (128, 128)\n",
    "    resized_image = cv2.resize(result,dim)\n",
    "    grayscale_image = cv2.cvtColor(resized_image, cv2.COLOR_RGB2GRAY)\n",
    "    #=====================================Contrast enhancement========================#\n",
    "    # Apply histogram equalization to enhance contrast\n",
    "    clahe = cv2.createCLAHE(clipLimit=2.0, tileGridSize=(10,10))\n",
    "    normalized_image = clahe.apply(grayscale_image)\n",
    "    gamma_corrected = exposure.adjust_gamma(normalized_image, gamma=2.5)\n",
    "    return gamma_corrected"
   ]
  }
 ],
 "metadata": {
  "kernelspec": {
   "display_name": "Python 3",
   "language": "python",
   "name": "python3"
  },
  "language_info": {
   "codemirror_mode": {
    "name": "ipython",
    "version": 3
   },
   "file_extension": ".py",
   "mimetype": "text/x-python",
   "name": "python",
   "nbconvert_exporter": "python",
   "pygments_lexer": "ipython3",
   "version": "3.11.2"
  },
  "orig_nbformat": 4
 },
 "nbformat": 4,
 "nbformat_minor": 2
}
