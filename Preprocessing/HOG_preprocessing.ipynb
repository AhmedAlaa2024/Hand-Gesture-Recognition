{
 "cells": [
  {
   "cell_type": "code",
   "execution_count": 6,
   "metadata": {},
   "outputs": [],
   "source": [
    "import cv2\n",
    "import numpy as np"
   ]
  },
  {
   "cell_type": "code",
   "execution_count": null,
   "metadata": {},
   "outputs": [],
   "source": [
    "def shadow_remove(img):\n",
    "    rgb_planes = cv2.split(img)\n",
    "    result_norm_planes = []\n",
    "    for plane in rgb_planes:\n",
    "        dilated_img = cv2.dilate(plane, np.ones((7,7), np.uint8))\n",
    "        bg_img = cv2.medianBlur(dilated_img, 21)\n",
    "        diff_img = 255 - cv2.absdiff(plane, bg_img)\n",
    "        norm_img = cv2.normalize(diff_img,None, alpha=0, beta=255, norm_type=cv2.NORM_MINMAX, dtype=cv2.CV_8UC1)\n",
    "        result_norm_planes.append(norm_img)\n",
    "    shadowremov = cv2.merge(result_norm_planes)\n",
    "    return shadowremov"
   ]
  },
  {
   "cell_type": "code",
   "execution_count": 7,
   "metadata": {},
   "outputs": [],
   "source": [
    "def hog_preprocessing(image):\n",
    "    resized_image = cv2.resize(image,(500,500))\n",
    "    shad_image = shadow_remove(resized_image)\n",
    "    grayscale_image = cv2.cvtColor(shad_image, cv2.COLOR_BGR2GRAY)\n",
    "    filtered_image  = cv2.GaussianBlur(grayscale_image, (3, 3), 1.0)\n",
    "    clahe = cv2.createCLAHE(clipLimit=2.0, tileGridSize=(8,8))\n",
    "    normalized_image = clahe.apply(filtered_image)\n",
    "    img_array = np.array(normalized_image, dtype=np.float32) / 255.0\n",
    "    corrected_array = np.power(img_array, 0.5)\n",
    "    corrected_image = np.uint8(corrected_array * 255.0)\n",
    "    resized_image = cv2.resize(corrected_image,(128,128))\n",
    "    return resized_image"
   ]
  }
 ],
 "metadata": {
  "kernelspec": {
   "display_name": "Python 3",
   "language": "python",
   "name": "python3"
  },
  "language_info": {
   "codemirror_mode": {
    "name": "ipython",
    "version": 3
   },
   "file_extension": ".py",
   "mimetype": "text/x-python",
   "name": "python",
   "nbconvert_exporter": "python",
   "pygments_lexer": "ipython3",
   "version": "3.11.2"
  },
  "orig_nbformat": 4
 },
 "nbformat": 4,
 "nbformat_minor": 2
}
