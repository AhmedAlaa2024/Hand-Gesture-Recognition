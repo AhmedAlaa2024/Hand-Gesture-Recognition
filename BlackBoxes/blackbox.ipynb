{
 "cells": [
  {
   "cell_type": "code",
   "execution_count": 2,
   "metadata": {},
   "outputs": [],
   "source": [
    "import cv2\n",
    "import numpy as np"
   ]
  },
  {
   "cell_type": "code",
   "execution_count": 3,
   "metadata": {},
   "outputs": [],
   "source": [
    "def hog_preprocessing(image):\n",
    "    grayscale_image = cv2.cvtColor(image, cv2.COLOR_BGR2GRAY)\n",
    "    filtered_image  = cv2.GaussianBlur(grayscale_image, (3, 3), 1.0)\n",
    "    clahe = cv2.createCLAHE(clipLimit=2.0, tileGridSize=(8,8))\n",
    "    normalized_image = clahe.apply(filtered_image)\n",
    "    img_array = np.array(normalized_image, dtype=np.float32) / 255.0\n",
    "    corrected_array = np.power(img_array, 0.5)\n",
    "    corrected_image = np.uint8(corrected_array * 255.0)\n",
    "    resized_image = cv2.resize(corrected_image,(1280,1280))\n",
    "    return resized_image"
   ]
  },
  {
   "cell_type": "code",
   "execution_count": 4,
   "metadata": {},
   "outputs": [],
   "source": [
    "def extract_hog_features(image, cell_size, num_orientations):\n",
    "\n",
    "  # Calculate the HOG features\n",
    "  hog = cv2.HOGDescriptor(_winSize=(image.shape[1] // cell_size[1] * cell_size[1],\n",
    "                                      image.shape[0] // cell_size[0] * cell_size[0]),\n",
    "                          _blockSize=(cell_size[1] * 2, cell_size[0] * 2),\n",
    "                          _blockStride=(cell_size[1], cell_size[0]),\n",
    "                          _cellSize=(cell_size[1], cell_size[0]),\n",
    "                          _nbins=num_orientations)\n",
    "  features = hog.compute(image)\n",
    "\n",
    "  # Return the features\n",
    "  return features"
   ]
  },
  {
   "cell_type": "code",
   "execution_count": 5,
   "metadata": {},
   "outputs": [],
   "source": [
    "def black_box(image):\n",
    "   preprocessed_image = hog_preprocessing(image)\n",
    "   hog_feature_vector = extract_hog_features(preprocessed_image, np.array([8, 8]), 9)  \n",
    "   return hog_feature_vector"
   ]
  },
  {
   "cell_type": "code",
   "execution_count": 10,
   "metadata": {},
   "outputs": [
    {
     "name": "stdout",
     "output_type": "stream",
     "text": [
      "[0.17197827 0.19021244 0.13070555 ... 0.13675098 0.09150332 0.15118685]\n"
     ]
    }
   ],
   "source": [
    "# Read the image \n",
    "image = cv2.imread('../data/' + 'Women' + '/' + str(2) + '/' + '2_woman (3).JPG')\n",
    "\n",
    "# Convert the color channels from BGR to RGB\n",
    "image = cv2.cvtColor(image, cv2.COLOR_BGR2RGB)\n",
    "\n",
    "Feature_vector = black_box(image)\n",
    "\n",
    "print(Feature_vector)"
   ]
  }
 ],
 "metadata": {
  "kernelspec": {
   "display_name": "Python 3",
   "language": "python",
   "name": "python3"
  },
  "language_info": {
   "codemirror_mode": {
    "name": "ipython",
    "version": 3
   },
   "file_extension": ".py",
   "mimetype": "text/x-python",
   "name": "python",
   "nbconvert_exporter": "python",
   "pygments_lexer": "ipython3",
   "version": "3.10.10"
  },
  "orig_nbformat": 4
 },
 "nbformat": 4,
 "nbformat_minor": 2
}
