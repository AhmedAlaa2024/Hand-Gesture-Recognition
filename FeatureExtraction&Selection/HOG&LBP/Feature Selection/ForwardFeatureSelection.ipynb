{
 "cells": [
  {
   "cell_type": "code",
   "execution_count": 59,
   "metadata": {},
   "outputs": [],
   "source": [
    "import pandas as pd \n",
    "import numpy as np\n",
    "from mlxtend.feature_selection import SequentialFeatureSelector\n",
    "from sklearn.model_selection import train_test_split\n",
    "from sklearn.ensemble import RandomForestClassifier\n",
    "from sklearn.preprocessing import StandardScaler\n",
    "from sklearn.decomposition import PCA\n",
    "from mlxtend.feature_selection import ExhaustiveFeatureSelector\n"
   ]
  },
  {
   "cell_type": "code",
   "execution_count": 35,
   "metadata": {},
   "outputs": [],
   "source": [
    "def forward_backward_FeatureSelection(Features,numberOfFeatures,Forward=True):\n",
    "    #read Feature file as CSV \n",
    "    data = pd.read_csv(Features)\n",
    "\n",
    "    LastFeature=numberOfFeatures\n",
    "    target=-1\n",
    "\n",
    "    #spilit Features from Trarget Class Variable\n",
    "    X=data.iloc[:,0:LastFeature]\n",
    "    Y=data.iloc[:,target]\n",
    "\n",
    "\n",
    "    X_train,X_test,Y_train,Y_test=train_test_split(X,Y)\n",
    "\n",
    "\n",
    "    foraward_feature_selection=SequentialFeatureSelector(RandomForestClassifier(n_jobs=-1),\n",
    "                                                         k_features=(1,LastFeature),\n",
    "                                                         forward=Forward,\n",
    "                                                         floating=False,\n",
    "                                                         scoring=\"accuracy\").fit(X_train,Y_train)\n",
    "\n",
    "\n",
    "    to_ret=np.asarray(foraward_feature_selection.k_feature_names_)\n",
    "    return to_ret\n",
    "\n",
    "\n",
    "\n"
   ]
  },
  {
   "cell_type": "code",
   "execution_count": 36,
   "metadata": {},
   "outputs": [
    {
     "name": "stdout",
     "output_type": "stream",
     "text": [
      "['alcohol' 'magnesium' 'flavanoids' 'color_intensity']\n"
     ]
    }
   ],
   "source": [
    "print(forward_backward_FeatureSelection(\"wine.csv\",13))"
   ]
  },
  {
   "cell_type": "code",
   "execution_count": 18,
   "metadata": {},
   "outputs": [],
   "source": [
    "def PCA_FeatureSelection(Features,numberOfFeatures):\n",
    "    #read Feature file as CSV \n",
    "    data = pd.read_csv(Features)\n",
    "\n",
    "    #normalization\n",
    "    scalar=StandardScaler()\n",
    "    scalar.fit(data)\n",
    "    scaled_data=scalar.transform(data)\n",
    "\n",
    "\n",
    "    LastFeature=numberOfFeatures\n",
    "\n",
    "\n",
    "    #PCA_FeatureSelection\n",
    "    pca=PCA(n_components=numberOfFeatures)\n",
    "    pca.fit(scaled_data)\n",
    "    x_pca=pca.transform(scaled_data)\n",
    "    \n",
    "\n",
    "    return x_pca\n",
    "\n",
    "    "
   ]
  },
  {
   "cell_type": "code",
   "execution_count": null,
   "metadata": {},
   "outputs": [],
   "source": [
    "print(PCA_FeatureSelection(\"wine.csv\",8))"
   ]
  },
  {
   "cell_type": "code",
   "execution_count": 65,
   "metadata": {},
   "outputs": [
    {
     "ename": "TerminatedWorkerError",
     "evalue": "A worker process managed by the executor was unexpectedly terminated. This could be caused by a segmentation fault while calling the function or by an excessive memory usage causing the Operating System to kill the worker.\n",
     "output_type": "error",
     "traceback": [
      "\u001b[1;31m---------------------------------------------------------------------------\u001b[0m",
      "\u001b[1;31mTerminatedWorkerError\u001b[0m                     Traceback (most recent call last)",
      "Cell \u001b[1;32mIn[65], line 21\u001b[0m\n\u001b[0;32m      9\u001b[0m Y\u001b[39m=\u001b[39mdata\u001b[39m.\u001b[39miloc[:,target]\n\u001b[0;32m     12\u001b[0m X_train,_,Y_train,_\u001b[39m=\u001b[39mtrain_test_split(X, Y, test_size\u001b[39m=\u001b[39m\u001b[39m0.3\u001b[39m,\n\u001b[0;32m     13\u001b[0m                                              random_state\u001b[39m=\u001b[39m \u001b[39m1\u001b[39m)\n\u001b[0;32m     16\u001b[0m efs \u001b[39m=\u001b[39m ExhaustiveFeatureSelector(RandomForestClassifier(n_jobs\u001b[39m=\u001b[39;49m\u001b[39m-\u001b[39;49m\u001b[39m1\u001b[39;49m),\n\u001b[0;32m     17\u001b[0m                          min_features\u001b[39m=\u001b[39;49m\u001b[39m1\u001b[39;49m,\n\u001b[0;32m     18\u001b[0m                          max_features\u001b[39m=\u001b[39;49mLastFeature,\n\u001b[0;32m     19\u001b[0m                          scoring\u001b[39m=\u001b[39;49m \u001b[39m\"\u001b[39;49m\u001b[39maccuracy\u001b[39;49m\u001b[39m\"\u001b[39;49m,\n\u001b[0;32m     20\u001b[0m                          cv \u001b[39m=\u001b[39;49m \u001b[39m2\u001b[39;49m,\n\u001b[1;32m---> 21\u001b[0m                          n_jobs\u001b[39m=\u001b[39;49m\u001b[39m-\u001b[39;49m\u001b[39m1\u001b[39;49m)\u001b[39m.\u001b[39;49mfit(X_train, Y_train)\n\u001b[0;32m     24\u001b[0m efs\u001b[39m.\u001b[39mbest_feature_names_\n\u001b[0;32m     25\u001b[0m efs\u001b[39m.\u001b[39mbest_score_\n",
      "File \u001b[1;32mc:\\Users\\fathi\\AppData\\Local\\Programs\\Python\\Python310\\lib\\site-packages\\mlxtend\\feature_selection\\exhaustive_feature_selector.py:444\u001b[0m, in \u001b[0;36mExhaustiveFeatureSelector.fit\u001b[1;34m(self, X, y, groups, **fit_params)\u001b[0m\n\u001b[0;32m    441\u001b[0m n_jobs \u001b[39m=\u001b[39m \u001b[39mmin\u001b[39m(\u001b[39mself\u001b[39m\u001b[39m.\u001b[39mn_jobs, all_comb)\n\u001b[0;32m    442\u001b[0m parallel \u001b[39m=\u001b[39m Parallel(n_jobs\u001b[39m=\u001b[39mn_jobs, pre_dispatch\u001b[39m=\u001b[39m\u001b[39mself\u001b[39m\u001b[39m.\u001b[39mpre_dispatch)\n\u001b[0;32m    443\u001b[0m work \u001b[39m=\u001b[39m \u001b[39menumerate\u001b[39m(\n\u001b[1;32m--> 444\u001b[0m     parallel(\n\u001b[0;32m    445\u001b[0m         delayed(_calc_score)(\n\u001b[0;32m    446\u001b[0m             \u001b[39mself\u001b[39;49m,\n\u001b[0;32m    447\u001b[0m             X_,\n\u001b[0;32m    448\u001b[0m             y,\n\u001b[0;32m    449\u001b[0m             \u001b[39mlist\u001b[39;49m(\u001b[39mset\u001b[39;49m(c)\u001b[39m.\u001b[39;49munion(\u001b[39mself\u001b[39;49m\u001b[39m.\u001b[39;49mfixed_features_group_set)),\n\u001b[0;32m    450\u001b[0m             groups\u001b[39m=\u001b[39;49mgroups,\n\u001b[0;32m    451\u001b[0m             feature_groups\u001b[39m=\u001b[39;49m\u001b[39mself\u001b[39;49m\u001b[39m.\u001b[39;49mfeature_groups,\n\u001b[0;32m    452\u001b[0m             \u001b[39m*\u001b[39;49m\u001b[39m*\u001b[39;49mfit_params,\n\u001b[0;32m    453\u001b[0m         )\n\u001b[0;32m    454\u001b[0m         \u001b[39mfor\u001b[39;49;00m c \u001b[39min\u001b[39;49;00m candidates\n\u001b[0;32m    455\u001b[0m     )\n\u001b[0;32m    456\u001b[0m )\n\u001b[0;32m    458\u001b[0m \u001b[39mtry\u001b[39;00m:\n\u001b[0;32m    459\u001b[0m     \u001b[39mfor\u001b[39;00m iteration, (indices, cv_scores) \u001b[39min\u001b[39;00m work:\n",
      "File \u001b[1;32mc:\\Users\\fathi\\AppData\\Local\\Programs\\Python\\Python310\\lib\\site-packages\\joblib\\parallel.py:1098\u001b[0m, in \u001b[0;36mParallel.__call__\u001b[1;34m(self, iterable)\u001b[0m\n\u001b[0;32m   1095\u001b[0m     \u001b[39mself\u001b[39m\u001b[39m.\u001b[39m_iterating \u001b[39m=\u001b[39m \u001b[39mFalse\u001b[39;00m\n\u001b[0;32m   1097\u001b[0m \u001b[39mwith\u001b[39;00m \u001b[39mself\u001b[39m\u001b[39m.\u001b[39m_backend\u001b[39m.\u001b[39mretrieval_context():\n\u001b[1;32m-> 1098\u001b[0m     \u001b[39mself\u001b[39;49m\u001b[39m.\u001b[39;49mretrieve()\n\u001b[0;32m   1099\u001b[0m \u001b[39m# Make sure that we get a last message telling us we are done\u001b[39;00m\n\u001b[0;32m   1100\u001b[0m elapsed_time \u001b[39m=\u001b[39m time\u001b[39m.\u001b[39mtime() \u001b[39m-\u001b[39m \u001b[39mself\u001b[39m\u001b[39m.\u001b[39m_start_time\n",
      "File \u001b[1;32mc:\\Users\\fathi\\AppData\\Local\\Programs\\Python\\Python310\\lib\\site-packages\\joblib\\parallel.py:975\u001b[0m, in \u001b[0;36mParallel.retrieve\u001b[1;34m(self)\u001b[0m\n\u001b[0;32m    973\u001b[0m \u001b[39mtry\u001b[39;00m:\n\u001b[0;32m    974\u001b[0m     \u001b[39mif\u001b[39;00m \u001b[39mgetattr\u001b[39m(\u001b[39mself\u001b[39m\u001b[39m.\u001b[39m_backend, \u001b[39m'\u001b[39m\u001b[39msupports_timeout\u001b[39m\u001b[39m'\u001b[39m, \u001b[39mFalse\u001b[39;00m):\n\u001b[1;32m--> 975\u001b[0m         \u001b[39mself\u001b[39m\u001b[39m.\u001b[39m_output\u001b[39m.\u001b[39mextend(job\u001b[39m.\u001b[39;49mget(timeout\u001b[39m=\u001b[39;49m\u001b[39mself\u001b[39;49m\u001b[39m.\u001b[39;49mtimeout))\n\u001b[0;32m    976\u001b[0m     \u001b[39melse\u001b[39;00m:\n\u001b[0;32m    977\u001b[0m         \u001b[39mself\u001b[39m\u001b[39m.\u001b[39m_output\u001b[39m.\u001b[39mextend(job\u001b[39m.\u001b[39mget())\n",
      "File \u001b[1;32mc:\\Users\\fathi\\AppData\\Local\\Programs\\Python\\Python310\\lib\\site-packages\\joblib\\_parallel_backends.py:567\u001b[0m, in \u001b[0;36mLokyBackend.wrap_future_result\u001b[1;34m(future, timeout)\u001b[0m\n\u001b[0;32m    564\u001b[0m \u001b[39m\u001b[39m\u001b[39m\"\"\"Wrapper for Future.result to implement the same behaviour as\u001b[39;00m\n\u001b[0;32m    565\u001b[0m \u001b[39mAsyncResults.get from multiprocessing.\"\"\"\u001b[39;00m\n\u001b[0;32m    566\u001b[0m \u001b[39mtry\u001b[39;00m:\n\u001b[1;32m--> 567\u001b[0m     \u001b[39mreturn\u001b[39;00m future\u001b[39m.\u001b[39;49mresult(timeout\u001b[39m=\u001b[39;49mtimeout)\n\u001b[0;32m    568\u001b[0m \u001b[39mexcept\u001b[39;00m CfTimeoutError \u001b[39mas\u001b[39;00m e:\n\u001b[0;32m    569\u001b[0m     \u001b[39mraise\u001b[39;00m \u001b[39mTimeoutError\u001b[39;00m \u001b[39mfrom\u001b[39;00m \u001b[39me\u001b[39;00m\n",
      "File \u001b[1;32mc:\\Users\\fathi\\AppData\\Local\\Programs\\Python\\Python310\\lib\\concurrent\\futures\\_base.py:445\u001b[0m, in \u001b[0;36mFuture.result\u001b[1;34m(self, timeout)\u001b[0m\n\u001b[0;32m    443\u001b[0m     \u001b[39mraise\u001b[39;00m CancelledError()\n\u001b[0;32m    444\u001b[0m \u001b[39melif\u001b[39;00m \u001b[39mself\u001b[39m\u001b[39m.\u001b[39m_state \u001b[39m==\u001b[39m FINISHED:\n\u001b[1;32m--> 445\u001b[0m     \u001b[39mreturn\u001b[39;00m \u001b[39mself\u001b[39;49m\u001b[39m.\u001b[39;49m__get_result()\n\u001b[0;32m    446\u001b[0m \u001b[39melse\u001b[39;00m:\n\u001b[0;32m    447\u001b[0m     \u001b[39mraise\u001b[39;00m \u001b[39mTimeoutError\u001b[39;00m()\n",
      "File \u001b[1;32mc:\\Users\\fathi\\AppData\\Local\\Programs\\Python\\Python310\\lib\\concurrent\\futures\\_base.py:390\u001b[0m, in \u001b[0;36mFuture.__get_result\u001b[1;34m(self)\u001b[0m\n\u001b[0;32m    388\u001b[0m \u001b[39mif\u001b[39;00m \u001b[39mself\u001b[39m\u001b[39m.\u001b[39m_exception:\n\u001b[0;32m    389\u001b[0m     \u001b[39mtry\u001b[39;00m:\n\u001b[1;32m--> 390\u001b[0m         \u001b[39mraise\u001b[39;00m \u001b[39mself\u001b[39m\u001b[39m.\u001b[39m_exception\n\u001b[0;32m    391\u001b[0m     \u001b[39mfinally\u001b[39;00m:\n\u001b[0;32m    392\u001b[0m         \u001b[39m# Break a reference cycle with the exception in self._exception\u001b[39;00m\n\u001b[0;32m    393\u001b[0m         \u001b[39mself\u001b[39m \u001b[39m=\u001b[39m \u001b[39mNone\u001b[39;00m\n",
      "\u001b[1;31mTerminatedWorkerError\u001b[0m: A worker process managed by the executor was unexpectedly terminated. This could be caused by a segmentation fault while calling the function or by an excessive memory usage causing the Operating System to kill the worker.\n"
     ]
    }
   ],
   "source": [
    "\n",
    "     #read Feature file as CSV \n",
    "data = pd.read_csv(\"wine.csv\")\n",
    "\n",
    "LastFeature=4\n",
    "target=-1\n",
    "\n",
    "#spilit Features from Trarget Class Variable\n",
    "X=data.iloc[:,0:LastFeature]\n",
    "Y=data.iloc[:,target]\n",
    "\n",
    "\n",
    "X_train,_,Y_train,_=train_test_split(X, Y, test_size=0.3,\n",
    "                                                  random_state= 1)\n",
    "\n",
    "\n",
    "efs = ExhaustiveFeatureSelector(RandomForestClassifier(n_jobs=-1),\n",
    "                              min_features=1,\n",
    "                              max_features=LastFeature,\n",
    "                              scoring= \"accuracy\",\n",
    "                              cv = 2,\n",
    "                              n_jobs=-1).fit(X_train, Y_train)\n",
    "\n",
    "\n",
    "efs.best_feature_names_\n",
    "efs.best_score_\n",
    "pd.DataFrame.from_dict(efs.get_metric_dict()).T\n"
   ]
  },
  {
   "cell_type": "code",
   "execution_count": 63,
   "metadata": {},
   "outputs": [
    {
     "name": "stderr",
     "output_type": "stream",
     "text": [
      "Features: 15/15"
     ]
    }
   ],
   "source": [
    "exhaustiveSelctor(\"wine.csv\",4)"
   ]
  },
  {
   "cell_type": "code",
   "execution_count": null,
   "metadata": {},
   "outputs": [],
   "source": []
  }
 ],
 "metadata": {
  "kernelspec": {
   "display_name": "Python 3",
   "language": "python",
   "name": "python3"
  },
  "language_info": {
   "codemirror_mode": {
    "name": "ipython",
    "version": 3
   },
   "file_extension": ".py",
   "mimetype": "text/x-python",
   "name": "python",
   "nbconvert_exporter": "python",
   "pygments_lexer": "ipython3",
   "version": "3.10.0"
  },
  "orig_nbformat": 4
 },
 "nbformat": 4,
 "nbformat_minor": 2
}
