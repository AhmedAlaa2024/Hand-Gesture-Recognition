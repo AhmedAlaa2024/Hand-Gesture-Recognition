{
 "cells": [
  {
   "cell_type": "code",
   "execution_count": null,
   "metadata": {},
   "outputs": [],
   "source": [
    "import cv2\n",
    "import numpy as np\n",
    "%run ../Preprocessing/HOG_preprocessing.ipynb \n",
    "%run ../FeatureExtraction/HOG_Features_Extraction.ipynb "
   ]
  },
  {
   "cell_type": "code",
   "execution_count": null,
   "metadata": {},
   "outputs": [],
   "source": [
    "def HOG_box(image):\n",
    "   preprocessed_image = hog_preprocessing(image)\n",
    "   hog_feature_vector = extract_hog_features(preprocessed_image, np.array([8, 8]), 9)  \n",
    "   return hog_feature_vector"
   ]
  }
 ],
 "metadata": {
  "language_info": {
   "name": "python"
  },
  "orig_nbformat": 4
 },
 "nbformat": 4,
 "nbformat_minor": 2
}
