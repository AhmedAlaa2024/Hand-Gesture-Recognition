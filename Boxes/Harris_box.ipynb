{
 "cells": [
  {
   "cell_type": "code",
   "execution_count": 52,
   "metadata": {},
   "outputs": [],
   "source": [
    "import numpy as np\n",
    "import cv2\n",
    "%run ../Preprocessing/Harris_preprocessing.ipynb \n",
    "%run ../FeatureExtraction/Harris_Feature_Extraction.ipynb \n",
    "%run ../FeatureExtraction/ORB_Feature_Extraction.ipynb "
   ]
  },
  {
   "cell_type": "code",
   "execution_count": 53,
   "metadata": {},
   "outputs": [],
   "source": [
    "def Harris_box(image):\n",
    "    if(image is not None):\n",
    "                preprocess_img_with_edges,preprocess_img_with_resize=preprocessing_harris(image)\n",
    "                cv2.imshow('Image with Borders', preprocess_img_with_edges)\n",
    "                    # De-allocate any associated memory usage \n",
    "                cv2.waitKey(0)\n",
    "                cv2.destroyAllWindows()\n",
    "                keypoints,desciptor= feature_extraction_ORB(preprocess_img_with_edges,1000)\n",
    "                image_with_feature = cv2.drawKeypoints(preprocess_img_with_resize, keypoints, None, (0,0,255), flags=0)\n",
    "                cv2.imshow('Image with Borders', image_with_feature)\n",
    "                    # De-allocate any associated memory usage \n",
    "                cv2.waitKey(0)\n",
    "                cv2.destroyAllWindows()\n",
    "    return desciptor, preprocess_img_with_resize \n"
   ]
  },
  {
   "cell_type": "code",
   "execution_count": 54,
   "metadata": {},
   "outputs": [],
   "source": [
    "image = cv2.imread('E:/2nd term 3rd year/Neural Network/Project/men/'+str(2)+'/'+str(2)+'_men ('+str(27)+').JPG', cv2.IMREAD_UNCHANGED)\n",
    "dst,img=Harris_box(image)"
   ]
  }
 ],
 "metadata": {
  "kernelspec": {
   "display_name": "Python 3",
   "language": "python",
   "name": "python3"
  },
  "language_info": {
   "codemirror_mode": {
    "name": "ipython",
    "version": 3
   },
   "file_extension": ".py",
   "mimetype": "text/x-python",
   "name": "python",
   "nbconvert_exporter": "python",
   "pygments_lexer": "ipython3",
   "version": "3.11.2"
  },
  "orig_nbformat": 4
 },
 "nbformat": 4,
 "nbformat_minor": 2
}
