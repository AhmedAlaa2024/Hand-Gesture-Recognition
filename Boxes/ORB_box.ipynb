{
 "cells": [
  {
   "cell_type": "code",
   "execution_count": 9,
   "metadata": {},
   "outputs": [],
   "source": [
    "import numpy as np\n",
    "import cv2\n",
    "%run ../Preprocessing/ORB_preprocessing.ipynb \n",
    "%run ../FeatureExtraction/ORB_Feature_Extraction.ipynb "
   ]
  },
  {
   "cell_type": "code",
   "execution_count": 10,
   "metadata": {},
   "outputs": [],
   "source": [
    "def ORB_box(image,Max_feature):\n",
    "    if(image is not None):\n",
    "                preprocess_img_with_edges,preprocess_img_with_resize=preprocessing_ORB(image)\n",
    "                keypoints,desciptor =feature_extraction_ORB(image,Max_feature)\n",
    "    return desciptor\n"
   ]
  }
 ],
 "metadata": {
  "kernelspec": {
   "display_name": "Python 3",
   "language": "python",
   "name": "python3"
  },
  "language_info": {
   "codemirror_mode": {
    "name": "ipython",
    "version": 3
   },
   "file_extension": ".py",
   "mimetype": "text/x-python",
   "name": "python",
   "nbconvert_exporter": "python",
   "pygments_lexer": "ipython3",
   "version": "3.11.2"
  },
  "orig_nbformat": 4
 },
 "nbformat": 4,
 "nbformat_minor": 2
}
