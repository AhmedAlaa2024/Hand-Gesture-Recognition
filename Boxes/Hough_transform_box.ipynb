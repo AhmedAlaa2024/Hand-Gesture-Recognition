{
 "cells": [
  {
   "cell_type": "code",
   "execution_count": null,
   "metadata": {},
   "outputs": [],
   "source": [
    "import cv2\n",
    "import numpy as np\n",
    "\n",
    "def extract_line_features(image):\n",
    "    # Convert the image to grayscale\n",
    "    gray = cv2.cvtColor(image, cv2.COLOR_BGR2GRAY)\n",
    "    \n",
    "    # Apply Canny edge detection\n",
    "    edges = cv2.Canny(gray, 50, 150, apertureSize=3)\n",
    "    \n",
    "    # Apply the Hough Transform to detect lines\n",
    "    lines = cv2.HoughLines(edges, 1, np.pi/180, threshold=100)\n",
    "    \n",
    "    line_features = []\n",
    "    \n",
    "    if lines is not None:\n",
    "        # Extract line features\n",
    "        line_features.append(len(lines))  # Total number of lines\n",
    "        \n",
    "        # Compute line angles and lengths\n",
    "        line_angles = []\n",
    "        line_lengths = []\n",
    "        for line in lines:\n",
    "            rho, theta = line[0]\n",
    "            line_angles.append(theta)\n",
    "            line_lengths.append(rho)\n",
    "        \n",
    "        # Calculate line angle statistics\n",
    "        line_features.append(np.mean(line_angles))  # Mean line angle\n",
    "        line_features.append(np.std(line_angles))   # Standard deviation of line angles\n",
    "        \n",
    "        # Calculate line length statistics\n",
    "        line_features.append(np.mean(line_lengths))  # Mean line length\n",
    "        line_features.append(np.std(line_lengths))   # Standard deviation of line lengths\n",
    "    \n",
    "    return line_features"
   ]
  }
 ],
 "metadata": {
  "language_info": {
   "name": "python"
  },
  "orig_nbformat": 4
 },
 "nbformat": 4,
 "nbformat_minor": 2
}
