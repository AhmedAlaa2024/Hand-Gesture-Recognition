{
 "cells": [
  {
   "cell_type": "code",
   "execution_count": null,
   "metadata": {},
   "outputs": [],
   "source": [
    "from skimage.feature import local_binary_pattern\n",
    "from skimage.color import rgb2gray\n",
    "from skimage import data\n",
    "import cv2\n",
    "import numpy as np"
   ]
  },
  {
   "cell_type": "code",
   "execution_count": null,
   "metadata": {},
   "outputs": [],
   "source": [
    "def LBP_Feature_Extraction(image,radius,n_points):    \n",
    "        # Compute LBP features\n",
    "        lbp = local_binary_pattern(image, n_points, radius)\n",
    "        # Compute the histogram of LBP features\n",
    "        hist, _ = np.histogram(lbp, bins=np.arange(0, n_points + 3),\n",
    "                            range=(0, n_points + 2), density=True)\n",
    "        # Normalize the histogram\n",
    "        hist = hist / np.sum(hist)\n",
    "        return hist"
   ]
  }
 ],
 "metadata": {
  "language_info": {
   "name": "python"
  },
  "orig_nbformat": 4
 },
 "nbformat": 4,
 "nbformat_minor": 2
}
