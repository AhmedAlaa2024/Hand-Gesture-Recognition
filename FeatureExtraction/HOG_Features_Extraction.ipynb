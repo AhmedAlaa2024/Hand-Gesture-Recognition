{
 "cells": [
  {
   "cell_type": "code",
   "execution_count": null,
   "metadata": {},
   "outputs": [],
   "source": [
    "import cv2\n",
    "import numpy as np"
   ]
  },
  {
   "cell_type": "code",
   "execution_count": null,
   "metadata": {},
   "outputs": [],
   "source": [
    "def extract_hog_features(image, cell_size, num_orientations):\n",
    "\n",
    "  # Calculate the HOG features\n",
    "  hog = cv2.HOGDescriptor(_winSize=(image.shape[1] // cell_size[1] * cell_size[1],\n",
    "                                      image.shape[0] // cell_size[0] * cell_size[0]),\n",
    "                          _blockSize=(cell_size[1] * 2, cell_size[0] * 2),\n",
    "                          _blockStride=(cell_size[1], cell_size[0]),\n",
    "                          _cellSize=(cell_size[1], cell_size[0]),\n",
    "                          _nbins=num_orientations)\n",
    "  features = hog.compute(image)\n",
    "\n",
    "  # Return the features\n",
    "  return features"
   ]
  }
 ],
 "metadata": {
  "language_info": {
   "name": "python"
  },
  "orig_nbformat": 4
 },
 "nbformat": 4,
 "nbformat_minor": 2
}
