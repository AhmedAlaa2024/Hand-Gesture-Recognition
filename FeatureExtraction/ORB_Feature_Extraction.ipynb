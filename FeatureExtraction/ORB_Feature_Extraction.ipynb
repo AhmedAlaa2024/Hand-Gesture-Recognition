{
 "cells": [
  {
   "cell_type": "code",
   "execution_count": 1,
   "metadata": {},
   "outputs": [],
   "source": [
    "import numpy as np\n",
    "import cv2"
   ]
  },
  {
   "cell_type": "code",
   "execution_count": 2,
   "metadata": {},
   "outputs": [],
   "source": [
    "# A keypoint is the position where the feature has been detected, \n",
    "# while the descriptor is an array containing numbers to describe that feature.\n",
    "def feature_extraction_ORB(image,Max_feature):\n",
    "    # Initiate SIFT object with default values\n",
    "    ORB = cv2.ORB_create(nfeatures=Max_feature)\n",
    "    # detect and compute the keypoints on image (imagescale)\n",
    "    keypoints = ORB.detect(image, None)\n",
    "    keypoints,desciptor = ORB.compute(image, keypoints)\n",
    "    keypoints=sorted(keypoints, key=lambda x: x.response, reverse=True)[:]\n",
    "\n",
    "    return keypoints,desciptor"
   ]
  }
 ],
 "metadata": {
  "kernelspec": {
   "display_name": "Python 3",
   "language": "python",
   "name": "python3"
  },
  "language_info": {
   "codemirror_mode": {
    "name": "ipython",
    "version": 3
   },
   "file_extension": ".py",
   "mimetype": "text/x-python",
   "name": "python",
   "nbconvert_exporter": "python",
   "pygments_lexer": "ipython3",
   "version": "3.11.2"
  },
  "orig_nbformat": 4
 },
 "nbformat": 4,
 "nbformat_minor": 2
}
