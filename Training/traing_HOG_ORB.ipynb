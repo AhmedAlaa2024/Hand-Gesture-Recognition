{
 "cells": [
  {
   "cell_type": "code",
   "execution_count": 77,
   "metadata": {},
   "outputs": [],
   "source": [
    "from sklearn import svm\n",
    "from sklearn.model_selection import GridSearchCV\n",
    "from sklearn.metrics import accuracy_score\n",
    "import cv2\n",
    "import os\n",
    "import numpy as np\n",
    "%run ../Boxes/ORB_box.ipynb\n",
    "%run ../Boxes/HOG_box.ipynb"
   ]
  },
  {
   "cell_type": "code",
   "execution_count": 78,
   "metadata": {},
   "outputs": [],
   "source": [
    "preprocessed_images = []\n",
    "feature_vectors = []"
   ]
  },
  {
   "cell_type": "code",
   "execution_count": 79,
   "metadata": {},
   "outputs": [],
   "source": [
    "def load_images_from_folder(folder_path):\n",
    "    # Set the path to the folder containing the images\n",
    "    # folder_path = 'E:/2nd term 3rd year/Neural Network/Project/Distrubute_dataset' + gender + '/' + str(number)\n",
    "    # Create an empty list to store the images\n",
    "    feature_vectors = []\n",
    "    # Loop through all the images in the folder\n",
    "    for imagefile in os.listdir(folder_path):\n",
    "        # Read the image \n",
    "        image = cv2.imread(os.path.join(folder_path, imagefile))\n",
    "        # Convert the color channels from BGR to RGB\n",
    "        feature_vector = HOG_box(image)\n",
    "        # Append the image to the list of images\n",
    "        feature_vectors.append(feature_vector)\n",
    "        # Append the label to the list of labels\n",
    "        del image\n",
    "\n",
    "    return feature_vectors"
   ]
  },
  {
   "cell_type": "code",
   "execution_count": 80,
   "metadata": {},
   "outputs": [],
   "source": [
    "def load_dataset():\n",
    "    X_train = []\n",
    "    Y_train = []\n",
    "    X_test=[]\n",
    "    Y_test=[]\n",
    "      #================================================Training===============================================#\n",
    "    ##0:\n",
    "    x= load_images_from_folder('E:/2nd term 3rd year/Neural Network/Project/Distrubute_dataset/men/0')\n",
    "    X_train += x\n",
    "    Y_train +=np.repeat(0,len(x)).tolist()\n",
    "    x = load_images_from_folder('E:/2nd term 3rd year/Neural Network/Project/Distrubute_dataset/women/0')\n",
    "    X_train += x\n",
    "    Y_train += np.repeat(0,len(x)).tolist()\n",
    "    ##1:\n",
    "    x= load_images_from_folder('E:/2nd term 3rd year/Neural Network/Project/Distrubute_dataset/men/1')\n",
    "    X_train += x\n",
    "    Y_train += np.repeat(1,len(x)).tolist()\n",
    "    x= load_images_from_folder('E:/2nd term 3rd year/Neural Network/Project/Distrubute_dataset/women/1')\n",
    "    X_train += x\n",
    "    Y_train += np.repeat(1,len(x)).tolist()\n",
    "    ##2:\n",
    "    x= load_images_from_folder('E:/2nd term 3rd year/Neural Network/Project/Distrubute_dataset/men/2')\n",
    "    X_train += x\n",
    "    Y_train += np.repeat(2,len(x)).tolist()\n",
    "    x = load_images_from_folder('E:/2nd term 3rd year/Neural Network/Project/Distrubute_dataset/women/2')\n",
    "    X_train += x\n",
    "    Y_train += np.repeat(2,len(x)).tolist()\n",
    "    ##3:\n",
    "    x = load_images_from_folder('E:/2nd term 3rd year/Neural Network/Project/Distrubute_dataset/men/3')\n",
    "    X_train += x\n",
    "    Y_train += np.repeat(3,len(x)).tolist()\n",
    "    x = load_images_from_folder('E:/2nd term 3rd year/Neural Network/Project/Distrubute_dataset/women/3')\n",
    "    X_train += x\n",
    "    Y_train += np.repeat(3,len(x)).tolist()\n",
    "    ##4:\n",
    "    x = load_images_from_folder('E:/2nd term 3rd year/Neural Network/Project/Distrubute_dataset/men/4')\n",
    "    X_train += x\n",
    "    Y_train += np.repeat(4,len(x)).tolist()\n",
    "    x = load_images_from_folder('E:/2nd term 3rd year/Neural Network/Project/Distrubute_dataset/women/4')\n",
    "    X_train += x\n",
    "    Y_train += np.repeat(4,len(x)).tolist()\n",
    "    ##5:\n",
    "    x = load_images_from_folder('E:/2nd term 3rd year/Neural Network/Project/Distrubute_dataset/men/5')\n",
    "    X_train += x\n",
    "    Y_train += np.repeat(5,len(x)).tolist()\n",
    "    x = load_images_from_folder('E:/2nd term 3rd year/Neural Network/Project/Distrubute_dataset/women/5')\n",
    "    X_train += x\n",
    "    Y_train += np.repeat(5,len(x)).tolist()\n",
    "    #================================================validation===============================================#\n",
    "    Y_test = np.repeat(np.arange(6), 16)\n",
    "    X_test=load_images_from_folder('E:/2nd term 3rd year/Neural Network/Project/Distrubute_dataset/validation')\n",
    "    return np.array(X_train), np.array(Y_train), np.array(X_test),np.array(Y_test)"
   ]
  },
  {
   "cell_type": "code",
   "execution_count": 81,
   "metadata": {},
   "outputs": [],
   "source": [
    "# Load the dataset\n",
    "X_train, Y_train, X_test, Y_test = load_dataset()"
   ]
  },
  {
   "cell_type": "code",
   "execution_count": 82,
   "metadata": {},
   "outputs": [],
   "source": [
    "# Concatenate the arrays element-wise\n",
    "# Reshape the second array to be a 2D array of size (numberofsamples, 1)\n",
    "# print(y)\n",
    "Y_train = Y_train.reshape((Y_train.shape[0], 1))\n",
    "# open the file in append mode\n",
    "with open('Label_FeatureVector.csv', 'w') as f:\n",
    "    f.truncate(0)\n",
    "\n",
    "# open the file in append mode and write new data to it\n",
    "with open('Label_FeatureVector.csv', 'a') as f:\n",
    "        # Save in csv file\n",
    "        np.savetxt('Label_FeatureVector.csv',  np.concatenate((Y_train, X_train), axis=1), delimiter=',')"
   ]
  },
  {
   "cell_type": "code",
   "execution_count": 83,
   "metadata": {},
   "outputs": [],
   "source": [
    "# # define SVM classifier\n",
    "# svc = svm.SVC()\n",
    "# # define parameter grid\n",
    "# param_grid = {'C': [0.1, 1, 10], 'kernel': ['linear', 'poly', 'rbf', 'sigmoid'], 'gamma': ['scale', 'auto']}\n",
    "# # perform grid search\n",
    "# grid_search = GridSearchCV(svc, param_grid, cv=5)\n",
    "# grid_search.fit(X_train, Y_train[:,0])\n",
    "\n",
    "# # print best parameters and score\n",
    "# print(\"Best parameters: \", grid_search.best_params_)\n",
    "# print(\"Best score: \", grid_search.best_score_)\n",
    "\n",
    "# # evaluate model on testing dataset\n",
    "# score = grid_search.score(X_test, Y_test)\n",
    "# print(\"Test score: \", score)"
   ]
  },
  {
   "cell_type": "code",
   "execution_count": 84,
   "metadata": {},
   "outputs": [],
   "source": [
    "# Create an SVM classifier\n",
    "clf = svm.SVC(kernel='rbf', C=10,gamma='scale')"
   ]
  },
  {
   "cell_type": "code",
   "execution_count": 85,
   "metadata": {},
   "outputs": [
    {
     "data": {
      "text/html": [
       "<style>#sk-container-id-5 {color: black;background-color: white;}#sk-container-id-5 pre{padding: 0;}#sk-container-id-5 div.sk-toggleable {background-color: white;}#sk-container-id-5 label.sk-toggleable__label {cursor: pointer;display: block;width: 100%;margin-bottom: 0;padding: 0.3em;box-sizing: border-box;text-align: center;}#sk-container-id-5 label.sk-toggleable__label-arrow:before {content: \"▸\";float: left;margin-right: 0.25em;color: #696969;}#sk-container-id-5 label.sk-toggleable__label-arrow:hover:before {color: black;}#sk-container-id-5 div.sk-estimator:hover label.sk-toggleable__label-arrow:before {color: black;}#sk-container-id-5 div.sk-toggleable__content {max-height: 0;max-width: 0;overflow: hidden;text-align: left;background-color: #f0f8ff;}#sk-container-id-5 div.sk-toggleable__content pre {margin: 0.2em;color: black;border-radius: 0.25em;background-color: #f0f8ff;}#sk-container-id-5 input.sk-toggleable__control:checked~div.sk-toggleable__content {max-height: 200px;max-width: 100%;overflow: auto;}#sk-container-id-5 input.sk-toggleable__control:checked~label.sk-toggleable__label-arrow:before {content: \"▾\";}#sk-container-id-5 div.sk-estimator input.sk-toggleable__control:checked~label.sk-toggleable__label {background-color: #d4ebff;}#sk-container-id-5 div.sk-label input.sk-toggleable__control:checked~label.sk-toggleable__label {background-color: #d4ebff;}#sk-container-id-5 input.sk-hidden--visually {border: 0;clip: rect(1px 1px 1px 1px);clip: rect(1px, 1px, 1px, 1px);height: 1px;margin: -1px;overflow: hidden;padding: 0;position: absolute;width: 1px;}#sk-container-id-5 div.sk-estimator {font-family: monospace;background-color: #f0f8ff;border: 1px dotted black;border-radius: 0.25em;box-sizing: border-box;margin-bottom: 0.5em;}#sk-container-id-5 div.sk-estimator:hover {background-color: #d4ebff;}#sk-container-id-5 div.sk-parallel-item::after {content: \"\";width: 100%;border-bottom: 1px solid gray;flex-grow: 1;}#sk-container-id-5 div.sk-label:hover label.sk-toggleable__label {background-color: #d4ebff;}#sk-container-id-5 div.sk-serial::before {content: \"\";position: absolute;border-left: 1px solid gray;box-sizing: border-box;top: 0;bottom: 0;left: 50%;z-index: 0;}#sk-container-id-5 div.sk-serial {display: flex;flex-direction: column;align-items: center;background-color: white;padding-right: 0.2em;padding-left: 0.2em;position: relative;}#sk-container-id-5 div.sk-item {position: relative;z-index: 1;}#sk-container-id-5 div.sk-parallel {display: flex;align-items: stretch;justify-content: center;background-color: white;position: relative;}#sk-container-id-5 div.sk-item::before, #sk-container-id-5 div.sk-parallel-item::before {content: \"\";position: absolute;border-left: 1px solid gray;box-sizing: border-box;top: 0;bottom: 0;left: 50%;z-index: -1;}#sk-container-id-5 div.sk-parallel-item {display: flex;flex-direction: column;z-index: 1;position: relative;background-color: white;}#sk-container-id-5 div.sk-parallel-item:first-child::after {align-self: flex-end;width: 50%;}#sk-container-id-5 div.sk-parallel-item:last-child::after {align-self: flex-start;width: 50%;}#sk-container-id-5 div.sk-parallel-item:only-child::after {width: 0;}#sk-container-id-5 div.sk-dashed-wrapped {border: 1px dashed gray;margin: 0 0.4em 0.5em 0.4em;box-sizing: border-box;padding-bottom: 0.4em;background-color: white;}#sk-container-id-5 div.sk-label label {font-family: monospace;font-weight: bold;display: inline-block;line-height: 1.2em;}#sk-container-id-5 div.sk-label-container {text-align: center;}#sk-container-id-5 div.sk-container {/* jupyter's `normalize.less` sets `[hidden] { display: none; }` but bootstrap.min.css set `[hidden] { display: none !important; }` so we also need the `!important` here to be able to override the default hidden behavior on the sphinx rendered scikit-learn.org. See: https://github.com/scikit-learn/scikit-learn/issues/21755 */display: inline-block !important;position: relative;}#sk-container-id-5 div.sk-text-repr-fallback {display: none;}</style><div id=\"sk-container-id-5\" class=\"sk-top-container\"><div class=\"sk-text-repr-fallback\"><pre>SVC(C=10)</pre><b>In a Jupyter environment, please rerun this cell to show the HTML representation or trust the notebook. <br />On GitHub, the HTML representation is unable to render, please try loading this page with nbviewer.org.</b></div><div class=\"sk-container\" hidden><div class=\"sk-item\"><div class=\"sk-estimator sk-toggleable\"><input class=\"sk-toggleable__control sk-hidden--visually\" id=\"sk-estimator-id-5\" type=\"checkbox\" checked><label for=\"sk-estimator-id-5\" class=\"sk-toggleable__label sk-toggleable__label-arrow\">SVC</label><div class=\"sk-toggleable__content\"><pre>SVC(C=10)</pre></div></div></div></div></div>"
      ],
      "text/plain": [
       "SVC(C=10)"
      ]
     },
     "execution_count": 85,
     "metadata": {},
     "output_type": "execute_result"
    }
   ],
   "source": [
    "# Train the SVM classifier on the training data\n",
    "clf.fit(X_train, Y_train[:,0])"
   ]
  },
  {
   "cell_type": "code",
   "execution_count": 86,
   "metadata": {},
   "outputs": [],
   "source": [
    "# Make predictions on the testing data\n",
    "y_pred = clf.predict(X_test)"
   ]
  },
  {
   "cell_type": "code",
   "execution_count": 87,
   "metadata": {},
   "outputs": [],
   "source": [
    "# Calculate the accuracy of the SVM classifier\n",
    "accuracy = accuracy_score(Y_test, y_pred)"
   ]
  },
  {
   "cell_type": "code",
   "execution_count": 88,
   "metadata": {},
   "outputs": [
    {
     "name": "stdout",
     "output_type": "stream",
     "text": [
      "Accuracy: 77.08333333333334 %\n"
     ]
    }
   ],
   "source": [
    "# Print the accuracy of the SVM classifier\n",
    "print(\"Accuracy:\", accuracy*100, '%')"
   ]
  },
  {
   "cell_type": "code",
   "execution_count": 89,
   "metadata": {},
   "outputs": [],
   "source": [
    "with open('y_test.csv', 'w') as f:\n",
    "    f.truncate(0)\n",
    "with open('y_pred.csv', 'w') as f:\n",
    "    f.truncate(0)\n",
    "\n",
    "# open the file in append mode and write new data to it\n",
    "with open('y_test.csv', 'a') as f:\n",
    "        # Save in csv file\n",
    "        np.savetxt('y_test.csv',  Y_test, delimiter=',')\n",
    "with open('y_pred.csv', 'a') as f:\n",
    "        # Save in csv file\n",
    "        np.savetxt('y_pred.csv',  y_pred, delimiter=',')"
   ]
  },
  {
   "cell_type": "code",
   "execution_count": 90,
   "metadata": {},
   "outputs": [
    {
     "name": "stdout",
     "output_type": "stream",
     "text": [
      "[0. 0. 0. ... 0. 0. 0.]\n"
     ]
    }
   ],
   "source": [
    "print(X_train[0,:])"
   ]
  },
  {
   "cell_type": "code",
   "execution_count": 91,
   "metadata": {},
   "outputs": [],
   "source": [
    "# del X_train\n",
    "# del Y_train\n",
    "# del X_train\n",
    "# del X_test\n",
    "# del X_train\n",
    "# del Y_test\n",
    "# del y_pred"
   ]
  }
 ],
 "metadata": {
  "kernelspec": {
   "display_name": "Python 3",
   "language": "python",
   "name": "python3"
  },
  "language_info": {
   "codemirror_mode": {
    "name": "ipython",
    "version": 3
   },
   "file_extension": ".py",
   "mimetype": "text/x-python",
   "name": "python",
   "nbconvert_exporter": "python",
   "pygments_lexer": "ipython3",
   "version": "3.11.2"
  },
  "orig_nbformat": 4
 },
 "nbformat": 4,
 "nbformat_minor": 2
}
