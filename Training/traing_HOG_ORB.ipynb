{
 "cells": [
  {
   "cell_type": "code",
   "execution_count": 24,
   "metadata": {},
   "outputs": [],
   "source": [
    "from sklearn import svm\n",
    "from sklearn.naive_bayes import GaussianNB\n",
    "from sklearn.neighbors import KNeighborsClassifier\n",
    "from sklearn.ensemble import VotingClassifier\n",
    "from sklearn.linear_model import LogisticRegression\n",
    "from sklearn.tree import DecisionTreeClassifier\n",
    "from sklearn.ensemble import RandomForestClassifier\n",
    "from sklearn.ensemble import GradientBoostingClassifier\n",
    "from sklearn.datasets import make_classification\n",
    "from sklearn.model_selection import train_test_split\n",
    "from sklearn.model_selection import GridSearchCV\n",
    "from sklearn.metrics import accuracy_score\n",
    "import cv2\n",
    "import os\n",
    "import numpy as np\n",
    "from sklearn.model_selection import train_test_split\n",
    "import xgboost as xgb\n",
    "\n",
    "%run ../Boxes/ORB_box.ipynb\n",
    "%run ../Boxes/HOG_box.ipynb\n",
    "%run ../FeatureExtraction/HOG_Features_Extraction.ipynb"
   ]
  },
  {
   "cell_type": "code",
   "execution_count": 25,
   "metadata": {},
   "outputs": [],
   "source": [
    "preprocessed_images = []\n",
    "feature_vectors = []"
   ]
  },
  {
   "cell_type": "code",
   "execution_count": 26,
   "metadata": {},
   "outputs": [],
   "source": [
    "def load_images_from_folder(folder_path):\n",
    "    # Set the path to the folder containing the images\n",
    "    # Create an empty list to store the images\n",
    "    feature_vectors = []\n",
    "    labels = []\n",
    "    # Loop through all the images in the folder\n",
    "    for imagefile in os.listdir(folder_path):\n",
    "        # Read the image \n",
    "        image = cv2.imread(os.path.join(folder_path, imagefile))\n",
    "        \n",
    "        # Convert the color channels from BGR to RGB\n",
    "        hog_feature_vector = extract_hog_features(image, np.array([10, 10]), 9) \n",
    "\n",
    "        # Append the image to the list of images\n",
    "        try:\n",
    "            labels.append(int(imagefile[0]))\n",
    "            feature_vectors.append(hog_feature_vector)\n",
    "        except:\n",
    "            del image\n",
    "            continue\n",
    "        # Append the label to the list of labels\n",
    "        del image\n",
    "\n",
    "    return labels, feature_vectors"
   ]
  },
  {
   "cell_type": "code",
   "execution_count": 27,
   "metadata": {},
   "outputs": [],
   "source": [
    "def load_dataset_linux():\n",
    "    X = []\n",
    "    Y = []\n",
    "\n",
    "    Y, X = load_images_from_folder('/home/ahmedalaa/Study/College/NN/Hand-Gesture-Recognition/resizedData')\n",
    "\n",
    "    return np.array(Y), np.array(X)"
   ]
  },
  {
   "cell_type": "code",
   "execution_count": null,
   "metadata": {},
   "outputs": [],
   "source": [
    "# For the windows farmers\n",
    "def load_dataset_win():\n",
    "    X = []\n",
    "    Y = []\n",
    "    x  = load_images_from_folder('E:/2nd term 3rd year/Neural Network/Project/men/0')\n",
    "    X += x\n",
    "    Y+=np.repeat(0,len(x)).tolist()\n",
    "    x = load_images_from_folder('E:/2nd term 3rd year/Neural Network/Project/women/0')\n",
    "    X += x\n",
    "    Y+=np.repeat(0,len(x)).tolist()\n",
    "    x = load_images_from_folder('E:/2nd term 3rd year/Neural Network/Project/men/1')\n",
    "    X += x\n",
    "    Y+=np.repeat(1,len(x)).tolist()\n",
    "    x = load_images_from_folder('E:/2nd term 3rd year/Neural Network/Project/women/1')\n",
    "    X += x\n",
    "    Y+=np.repeat(1,len(x)).tolist()\n",
    "    x = load_images_from_folder('E:/2nd term 3rd year/Neural Network/Project/men/2')\n",
    "    X += x\n",
    "    Y+=np.repeat(2,len(x)).tolist()\n",
    "    x= load_images_from_folder('E:/2nd term 3rd year/Neural Network/Project/women/2')\n",
    "    X += x\n",
    "    Y+=np.repeat(2,len(x)).tolist()\n",
    "    x = load_images_from_folder('E:/2nd term 3rd year/Neural Network/Project/men/3')\n",
    "    X += x\n",
    "    Y+=np.repeat(3,len(x)).tolist()\n",
    "    x = load_images_from_folder('E:/2nd term 3rd year/Neural Network/Project/women/3')\n",
    "    X += x\n",
    "    Y+=np.repeat(3,len(x)).tolist()\n",
    "    x = load_images_from_folder('E:/2nd term 3rd year/Neural Network/Project/men/4')\n",
    "    X += x\n",
    "    Y+=np.repeat(4,len(x)).tolist()\n",
    "    x = load_images_from_folder('E:/2nd term 3rd year/Neural Network/Project/women/4')\n",
    "    X += x\n",
    "    Y+=np.repeat(4,len(x)).tolist()\n",
    "    x= load_images_from_folder('E:/2nd term 3rd year/Neural Network/Project/men/5')\n",
    "    X += x\n",
    "    Y+=np.repeat(5,len(x)).tolist()\n",
    "    x = load_images_from_folder('E:/2nd term 3rd year/Neural Network/Project/women/5')\n",
    "    X += x\n",
    "    Y+=np.repeat(5,len(x)).tolist()\n",
    "    return np.array(X),np.array(Y)\n",
    "    # X_train = []\n",
    "    # Y_train = []\n",
    "    # X_test=[]\n",
    "    # Y_test=[]\n",
    "    #   #================================================Training===============================================#\n",
    "    # ##0:\n",
    "    # x= load_images_from_folder('E:/2nd term 3rd year/Neural Network/Project/Distrubute_dataset/men/0')\n",
    "    # X_train += x\n",
    "    # Y_train +=np.repeat(0,len(x)).tolist()\n",
    "    # x = load_images_from_folder('E:/2nd term 3rd year/Neural Network/Project/Distrubute_dataset/women/0')\n",
    "    # X_train += x\n",
    "    # Y_train += np.repeat(0,len(x)).tolist()\n",
    "    # ##1:\n",
    "    # x= load_images_from_folder('E:/2nd term 3rd year/Neural Network/Project/Distrubute_dataset/men/1')\n",
    "    # X_train += x\n",
    "    # Y_train += np.repeat(1,len(x)).tolist()\n",
    "    # x= load_images_from_folder('E:/2nd term 3rd year/Neural Network/Project/Distrubute_dataset/women/1')\n",
    "    # X_train += x\n",
    "    # Y_train += np.repeat(1,len(x)).tolist()\n",
    "    # ##2:\n",
    "    # x= load_images_from_folder('E:/2nd term 3rd year/Neural Network/Project/Distrubute_dataset/men/2')\n",
    "    # X_train += x\n",
    "    # Y_train += np.repeat(2,len(x)).tolist()\n",
    "    # x = load_images_from_folder('E:/2nd term 3rd year/Neural Network/Project/Distrubute_dataset/women/2')\n",
    "    # X_train += x\n",
    "    # Y_train += np.repeat(2,len(x)).tolist()\n",
    "    # ##3:\n",
    "    # x = load_images_from_folder('E:/2nd term 3rd year/Neural Network/Project/Distrubute_dataset/men/3')\n",
    "    # X_train += x\n",
    "    # Y_train += np.repeat(3,len(x)).tolist()\n",
    "    # x = load_images_from_folder('E:/2nd term 3rd year/Neural Network/Project/Distrubute_dataset/women/3')\n",
    "    # X_train += x\n",
    "    # Y_train += np.repeat(3,len(x)).tolist()\n",
    "    # ##4:\n",
    "    # x = load_images_from_folder('E:/2nd term 3rd year/Neural Network/Project/Distrubute_dataset/men/4')\n",
    "    # X_train += x\n",
    "    # Y_train += np.repeat(4,len(x)).tolist()\n",
    "    # x = load_images_from_folder('E:/2nd term 3rd year/Neural Network/Project/Distrubute_dataset/women/4')\n",
    "    # X_train += x\n",
    "    # Y_train += np.repeat(4,len(x)).tolist()\n",
    "    # ##5:\n",
    "    # x = load_images_from_folder('E:/2nd term 3rd year/Neural Network/Project/Distrubute_dataset/men/5')\n",
    "    # X_train += x\n",
    "    # Y_train += np.repeat(5,len(x)).tolist()\n",
    "    # x = load_images_from_folder('E:/2nd term 3rd year/Neural Network/Project/Distrubute_dataset/women/5')\n",
    "    # X_train += x\n",
    "    # Y_train += np.repeat(5,len(x)).tolist()\n",
    "    # #================================================validation===============================================#\n",
    "    # Y_test = np.repeat(np.arange(6), 16)\n",
    "    # X_test=load_images_from_folder('E:/2nd term 3rd year/Neural Network/Project/Distrubute_dataset/validation')\n",
    "    # return np.array(X_train), np.array(Y_train), np.array(X_test),np.array(Y_test)"
   ]
  },
  {
   "cell_type": "code",
   "execution_count": 28,
   "metadata": {},
   "outputs": [],
   "source": [
    "Y, X = load_dataset_linux()"
   ]
  },
  {
   "cell_type": "code",
   "execution_count": null,
   "metadata": {},
   "outputs": [],
   "source": [
    "# Just for checking\n",
    "print(Y.shape)\n",
    "print(X.shape)"
   ]
  },
  {
   "cell_type": "code",
   "execution_count": null,
   "metadata": {},
   "outputs": [],
   "source": [
    "# # Concatenate the arrays element-wise\n",
    "# # Reshape the second array to be a 2D array of size (numberofsamples, 1)\n",
    "# # print(y)\n",
    "# Y_train = Y_train.reshape((Y_train.shape[0], 1))\n",
    "# # open the file in append mode\n",
    "# with open('Label_FeatureVector.csv', 'w') as f:\n",
    "#     f.truncate(0)\n",
    "\n",
    "# # # open the file in append mode and write new data to it\n",
    "# with open('Label_FeatureVector.csv', 'a') as f:\n",
    "#         # Save in csv file\n",
    "#         np.savetxt('Label_FeatureVector.csv',  np.concatenate((Y_train, X_train), axis=1), delimiter=',')\n",
    "\n",
    "# print(y)\n",
    "# Y = Y.reshape((Y.shape[0], 1))\n",
    "# # open the file in append mode\n",
    "# with open('Label_FeatureVector.csv', 'w') as f:\n",
    "#     f.truncate(0)\n",
    "\n",
    "# # # open the file in append mode and write new data to it\n",
    "# with open('Label_FeatureVector.csv', 'a') as f:\n",
    "#         # Save in csv file\n",
    "#         np.savetxt('Label_FeatureVector.csv',  np.concatenate((Y, X), axis=1), delimiter=',')"
   ]
  },
  {
   "cell_type": "code",
   "execution_count": null,
   "metadata": {},
   "outputs": [],
   "source": [
    "# # Create an SVM classifier\n",
    "# clf = svm.SVC(kernel='rbf', C=10,gamma='scale')"
   ]
  },
  {
   "cell_type": "code",
   "execution_count": 29,
   "metadata": {},
   "outputs": [],
   "source": [
    "X_train, X_test, Y_train, Y_test = train_test_split(X, Y, test_size=0.15, random_state=42)"
   ]
  },
  {
   "cell_type": "code",
   "execution_count": 30,
   "metadata": {},
   "outputs": [],
   "source": [
    "X_train, X_vaild,Y_train, Y_valid = train_test_split(X_train,Y_train, test_size=0.15)"
   ]
  },
  {
   "cell_type": "code",
   "execution_count": null,
   "metadata": {},
   "outputs": [],
   "source": [
    "# import matplotlib.pyplot as plt\n",
    "# from sklearn.manifold import TSNE\n",
    "# import numpy as np\n",
    "\n",
    "# # define colors for each class\n",
    "# colors = ['red', 'green', 'blue', 'orange', 'purple', 'yellow']\n",
    "\n",
    "# # perform t-SNE\n",
    "# tsne = TSNE(n_components=2, perplexity=50, learning_rate=15)\n",
    "# X_tsne = tsne.fit_transform(X_train)\n",
    "\n",
    "# # plot the results with colors\n",
    "# plt.figure(figsize=(10, 10))\n",
    "# for i in range(len(colors)):\n",
    "#     plt.scatter(X_tsne[Y_train == i, 0], X_tsne[Y_train == i, 1], color=colors[i], label=f'Class {i}')\n",
    "# plt.legend()\n",
    "# plt.show()\n"
   ]
  },
  {
   "cell_type": "code",
   "execution_count": null,
   "metadata": {},
   "outputs": [],
   "source": [
    "# # define parameter grid\n",
    "# param_grid = {\n",
    "#     'n_estimators': [50, 100, 200],\n",
    "#     'max_depth': [3, 5, 10],\n",
    "#     'min_samples_split': [2, 5, 10]\n",
    "# }\n",
    "# rfc = RandomForestClassifier(random_state=1)\n",
    "# # Perform grid search using cross-validation\n",
    "# grid_search = GridSearchCV(rfc, param_grid=param_grid, cv=5)\n",
    "# grid_search.fit(X_train, Y_train)\n",
    "# # print best parameters and score\n",
    "# print(\"Best parameters: \", grid_search.best_params_)\n",
    "# print(\"Best score: \", grid_search.best_score_)\n",
    "\n",
    "# # evaluate model on testing dataset\n",
    "# score = grid_search.score(X_test, Y_test)\n",
    "# print(\"Test score: \", score)"
   ]
  },
  {
   "cell_type": "code",
   "execution_count": null,
   "metadata": {},
   "outputs": [],
   "source": [
    "# # Define the XGBoost classifier\n",
    "# # gb_clf = GradientBoostingClassifier(random_state=1)\n",
    "# clf= KNeighborsClassifier()\n",
    "# # # Define the parameter grid to search over\n",
    "# param_grid = {'n_neighbors': [1, 3, 5, 7, 9]}\n",
    "\n",
    "# # Perform grid search using cross-validation\n",
    "# grid_search = GridSearchCV(clf, param_grid=param_grid, cv=5)\n",
    "# grid_search.fit(X_train, Y_train)\n",
    "# # print best parameters and score\n",
    "# print(\"Best parameters: \", grid_search.best_params_)\n",
    "# print(\"Best score: \", grid_search.best_score_)\n",
    "\n",
    "# # evaluate model on testing dataset\n",
    "# score = grid_search.score(X_test, Y_test)\n",
    "# print(\"Test score: \", score)"
   ]
  },
  {
   "cell_type": "code",
   "execution_count": null,
   "metadata": {},
   "outputs": [],
   "source": [
    "# define SVM classifier\n",
    "svc = svm.SVC()\n",
    "# define parameter grid\n",
    "param_grid = {'C': [1, 2, 3, 4, 5, 6, 7, 8, 9, 10], 'kernel': ['linear', 'poly', 'rbf', 'sigmoid'], 'gamma': ['scale', 'auto']}\n",
    "# perform grid search\n",
    "grid_search = GridSearchCV(svc, param_grid, cv=5)\n",
    "grid_search.fit(X_train,Y_train)\n",
    "\n",
    "# print best parameters and score\n",
    "print(\"Best parameters: \", grid_search.best_params_)\n",
    "print(\"Best score: \", grid_search.best_score_)\n",
    "\n",
    "# evaluate model on testing dataset\n",
    "score = grid_search.score(X_test, Y_test)\n",
    "print(\"Test score: \", score)"
   ]
  },
  {
   "cell_type": "code",
   "execution_count": 31,
   "metadata": {},
   "outputs": [
    {
     "name": "stdout",
     "output_type": "stream",
     "text": [
      "Accuracy hard: 79.1970802919708 %\n",
      "Accuracy soft: 79.56204379562044 %\n"
     ]
    }
   ],
   "source": [
    "estimator = []\n",
    "estimator.append(('FR', RandomForestClassifier(n_estimators=200, max_depth=10, min_samples_split=2, random_state=1)))\n",
    "estimator.append(('SVC', svm.SVC(kernel='rbf', C=10, gamma='scale', probability=True)))\n",
    "estimator.append(('KNN', KNeighborsClassifier(n_neighbors=5)))\n",
    "  \n",
    "# Voting Classifier with hard voting\n",
    "vot_hard = VotingClassifier(estimators = estimator, voting ='hard')\n",
    "vot_hard.fit(X_train, Y_train)\n",
    "y_pred = vot_hard.predict(X_test)\n",
    "  \n",
    "# using accuracy_score metric to predict accuracy\n",
    "score = accuracy_score(Y_test, y_pred)\n",
    "print(\"Accuracy hard:\", score*100, '%')\n",
    "  \n",
    "# Voting Classifier with soft voting\n",
    "vot_soft = VotingClassifier(estimators = estimator, voting ='soft')\n",
    "vot_soft.fit(X_train, Y_train)\n",
    "y_pred = vot_soft.predict(X_test)\n",
    "  \n",
    "# using accuracy_score\n",
    "score = accuracy_score(Y_test, y_pred)\n",
    "print(\"Accuracy soft:\", score*100, '%')"
   ]
  },
  {
   "cell_type": "code",
   "execution_count": 32,
   "metadata": {},
   "outputs": [
    {
     "name": "stdout",
     "output_type": "stream",
     "text": [
      "Accuracy: 81.02189781021897 %\n"
     ]
    }
   ],
   "source": [
    "# Create an SVM classifier\n",
    "# clf = svm.SVC(kernel='rbf', C=10,gamma='scale')\n",
    "# Best parameters:  {'C': 10, 'gamma': 'scale', 'kernel': 'poly'}\n",
    "# Best parameters:  {'C': 10, 'gamma': 'scale', 'kernel': 'poly'}\n",
    "# Best score:  0.7823730879749224\n",
    "# Test score:  0.791970802919708\n",
    "clf = svm.SVC(kernel='rbf', C=10,gamma='scale')\n",
    "# Train the SVM classifier on the training data\n",
    "clf.fit(X_train, Y_train)\n",
    "# Make predictions on the testing data\n",
    "y_pred = clf.predict(X_test)\n",
    "# Calculate the accuracy of the SVM classifier\n",
    "accuracy = accuracy_score(Y_test, y_pred)\n",
    "# Print the accuracy of the SVM classifier\n",
    "print(\"Accuracy:\", accuracy*100, '%')"
   ]
  },
  {
   "cell_type": "code",
   "execution_count": 33,
   "metadata": {},
   "outputs": [
    {
     "name": "stdout",
     "output_type": "stream",
     "text": [
      "Accuracy: 73.35766423357664 %\n"
     ]
    }
   ],
   "source": [
    "# Create an Random forest classifier\n",
    "# Best parameters:  {'max_depth': 10, 'min_samples_split': 10, 'n_estimators': 200}\n",
    "# Best parameters:  {'max_depth': 10, 'min_samples_split': 10, 'n_estimators': 200}\n",
    "# Best score:  0.7321597538675876\n",
    "# Test score:  0.7262773722627737\n",
    "clf = RandomForestClassifier(n_estimators=200, max_depth=10,min_samples_split=2, random_state=1)\n",
    "# Train the SVM classifier on the training data\n",
    "clf.fit(X_train, Y_train)\n",
    "# Make predictions on the testing data\n",
    "y_pred = clf.predict(X_test)\n",
    "# Calculate the accuracy of the SVM classifier\n",
    "accuracy = accuracy_score(Y_test, y_pred)\n",
    "# Print the accuracy of the SVM classifier\n",
    "print(\"Accuracy:\", accuracy*100, '%')"
   ]
  },
  {
   "cell_type": "code",
   "execution_count": 34,
   "metadata": {},
   "outputs": [
    {
     "name": "stdout",
     "output_type": "stream",
     "text": [
      "Accuracy: 56.934306569343065 %\n"
     ]
    }
   ],
   "source": [
    "# Create an SVM classifier\n",
    "# Best parameters:  {'n_neighbors': 7}\n",
    "# Define the XGBoost classifier\n",
    "# clf = GradientBoostingClassifier(n_estimators=50, max_depth=5, learning_rate=0.1, random_state=1)\n",
    "clf = GaussianNB()\n",
    "# Best parameters:  {'n_neighbors': 7}\n",
    "# Best score:  0.7070240617653034\n",
    "# Test score:  0.708029197080292\n",
    "# clf=KNeighborsClassifier(n_neighbors=5)\n",
    "# Train the SVM classifier on the training data\n",
    "clf.fit(X_train, Y_train)\n",
    "# Make predictions on the testing data\n",
    "y_pred = clf.predict(X_test)\n",
    "# Calculate the accuracy of the SVM classifier\n",
    "accuracy = accuracy_score(Y_test, y_pred)\n",
    "# Print the accuracy of the SVM classifier\n",
    "print(\"Accuracy:\", accuracy*100, '%')"
   ]
  },
  {
   "cell_type": "code",
   "execution_count": null,
   "metadata": {},
   "outputs": [],
   "source": [
    "with open('y_test.csv', 'w') as f:\n",
    "    f.truncate(0)\n",
    "with open('y_pred.csv', 'w') as f:\n",
    "    f.truncate(0)\n",
    "\n",
    "# open the file in append mode and write new data to it\n",
    "with open('y_test.csv', 'a') as f:\n",
    "        # Save in csv file\n",
    "        np.savetxt('y_test.csv',  Y_test, delimiter=',')\n",
    "with open('y_pred.csv', 'a') as f:\n",
    "        # Save in csv file\n",
    "        np.savetxt('y_pred.csv',  y_pred, delimiter=',')"
   ]
  },
  {
   "cell_type": "code",
   "execution_count": null,
   "metadata": {},
   "outputs": [],
   "source": [
    "# del X_train\n",
    "# del Y_train\n",
    "# del X_train\n",
    "# del X_test\n",
    "# del X_train\n",
    "# del Y_test\n",
    "# del y_pred"
   ]
  },
  {
   "cell_type": "code",
   "execution_count": null,
   "metadata": {},
   "outputs": [],
   "source": [
    "print(X_train.shape)"
   ]
  },
  {
   "cell_type": "code",
   "execution_count": 35,
   "metadata": {},
   "outputs": [],
   "source": [
    "from sklearn.neighbors import KernelDensity\n",
    "\n",
    "def density_estimator(X_train):\n",
    "    # Estimate the probability density function using a Gaussian kernel density estimator\n",
    "    kde = KernelDensity(kernel='gaussian', bandwidth=10).fit(X_train)\n",
    "    return kde"
   ]
  },
  {
   "cell_type": "code",
   "execution_count": 36,
   "metadata": {},
   "outputs": [
    {
     "name": "stdout",
     "output_type": "stream",
     "text": [
      "Accuracy: 15.69%\n"
     ]
    }
   ],
   "source": [
    "# Train the density estimator on the HOG features of the training data\n",
    "kde = density_estimator(X_train)\n",
    "\n",
    "# Compute the log-probabilities of the HOG features of the test data under the estimated density\n",
    "log_probs_test = kde.score_samples(X_test)\n",
    "\n",
    "# Reshape log_probs_test to have shape (n_samples, 1)\n",
    "log_probs_test = log_probs_test.reshape(-1, 1)\n",
    "\n",
    "# Calculate predicted labels from log probabilities\n",
    "predicted_labels = np.argmax(log_probs_test, axis=1)\n",
    "\n",
    "# Calculate accuracy\n",
    "accuracy = np.mean(predicted_labels == Y_test) * 100\n",
    "print(\"Accuracy: {:.2f}%\".format(accuracy))"
   ]
  },
  {
   "cell_type": "code",
   "execution_count": 37,
   "metadata": {},
   "outputs": [],
   "source": [
    "import joblib\n",
    "\n",
    "# Save the hard voting trained model to a file\n",
    "with open('hard_voting.pkl', 'wb') as file:\n",
    "  joblib.dump(vot_hard, file)\n",
    "\n",
    "# Save the soft voting trained model to a file\n",
    "with open('soft_voting.pkl', 'wb') as file:\n",
    "  joblib.dump(vot_soft, file)"
   ]
  }
 ],
 "metadata": {
  "kernelspec": {
   "display_name": "Python 3",
   "language": "python",
   "name": "python3"
  },
  "language_info": {
   "codemirror_mode": {
    "name": "ipython",
    "version": 3
   },
   "file_extension": ".py",
   "mimetype": "text/x-python",
   "name": "python",
   "nbconvert_exporter": "python",
   "pygments_lexer": "ipython3",
   "version": "3.10.6"
  },
  "orig_nbformat": 4
 },
 "nbformat": 4,
 "nbformat_minor": 2
}
