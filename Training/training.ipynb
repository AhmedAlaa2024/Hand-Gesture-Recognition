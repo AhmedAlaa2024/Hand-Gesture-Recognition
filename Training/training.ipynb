{
 "cells": [
  {
   "cell_type": "code",
   "execution_count": 1,
   "metadata": {},
   "outputs": [],
   "source": [
    "from sklearn import svm\n",
    "from sklearn.datasets import load_iris\n",
    "from sklearn.model_selection import train_test_split\n",
    "from sklearn.metrics import accuracy_score\n",
    "import cv2\n",
    "import os\n",
    "import numpy as np\n",
    "%run ../Boxes/ORB_box.ipynb\n",
    "%run ../Boxes/HOG_box.ipynb\n",
    "%run ../FeatureSelection/HOG&LBP/FeatureSelection/ForwardFeatureSelection.ipynb"
   ]
  },
  {
   "cell_type": "code",
   "execution_count": null,
   "metadata": {},
   "outputs": [],
   "source": [
    "preprocessed_images = []\n",
    "feature_vectors = []"
   ]
  },
  {
   "cell_type": "code",
   "execution_count": null,
   "metadata": {},
   "outputs": [],
   "source": [
    "def load_images_from_folder(gender, number):\n",
    "\n",
    "    # Set the path to the folder containing the images\n",
    "    folder_path = 'E:/2nd term 3rd year/Neural Network/Project/' + gender + '/' + str(number)\n",
    "\n",
    "    # Create an empty list to store the images\n",
    "    feature_vectors = []\n",
    "\n",
    "    # Create an empty list to store the labels\n",
    "    labels = []\n",
    "\n",
    "    # Loop through all the images in the folder\n",
    "    for imagefile in os.listdir(folder_path):\n",
    "        # Read the image \n",
    "        image = cv2.imread(os.path.join(folder_path, imagefile))\n",
    "\n",
    "        # Convert the color channels from BGR to RGB\n",
    "        image = cv2.cvtColor(image, cv2.COLOR_BGR2RGB)\n",
    "        descriptors = ORB_box(image)\n",
    "\n",
    "\n",
    "\n",
    "        # Compute a single value (mean) from each descriptor\n",
    "        descriptor_means = np.mean(descriptors, axis=1)\n",
    "\n",
    "        # Reshape the descriptor_means array to (num_keypoints, 1)\n",
    "        descriptor_means = np.reshape(descriptor_means, (-1, 1))    \n",
    "\n",
    "        # Append the image to the list of images\n",
    "        feature_vectors.append(descriptor_means)\n",
    "\n",
    "        # Append the label to the list of labels\n",
    "        labels.append(number)\n",
    "\n",
    "        del image\n",
    "\n",
    "    return feature_vectors, labels"
   ]
  },
  {
   "cell_type": "code",
   "execution_count": null,
   "metadata": {},
   "outputs": [],
   "source": [
    "def load_dataset():\n",
    "    X = []\n",
    "    Y = []\n",
    "    x, y = load_images_from_folder('men', 0)\n",
    "    X += x\n",
    "    Y += y\n",
    "    x, y = load_images_from_folder('Women', 0)\n",
    "    X += x\n",
    "    Y += y\n",
    "    x, y = load_images_from_folder('men', 1)\n",
    "    X += x\n",
    "    Y += y\n",
    "    x, y = load_images_from_folder('Women', 1)\n",
    "    X += x\n",
    "    Y += y\n",
    "    x, y = load_images_from_folder('men', 2)\n",
    "    X += x\n",
    "    Y += y\n",
    "    x, y = load_images_from_folder('Women', 2)\n",
    "    X += x\n",
    "    Y += y\n",
    "    x, y = load_images_from_folder('men', 3)\n",
    "    X += x\n",
    "    Y += y\n",
    "    x, y = load_images_from_folder('Women', 3)\n",
    "    X += x\n",
    "    Y += y\n",
    "    x, y = load_images_from_folder('men', 4)\n",
    "    X += x\n",
    "    Y += y\n",
    "    x, y = load_images_from_folder('Women', 4)\n",
    "    X += x\n",
    "    Y += y\n",
    "    x, y = load_images_from_folder('men', 5)\n",
    "    X += x\n",
    "    Y += y\n",
    "    x, y = load_images_from_folder('Women', 5)\n",
    "    X += x\n",
    "    Y += y\n",
    "\n",
    "    return np.array(X), np.array(Y)\n"
   ]
  },
  {
   "cell_type": "code",
   "execution_count": null,
   "metadata": {},
   "outputs": [],
   "source": [
    "# Load the dataset\n",
    "X, y = load_dataset()"
   ]
  },
  {
   "cell_type": "code",
   "execution_count": null,
   "metadata": {},
   "outputs": [],
   "source": [
    "# Concatenate the arrays element-wise\n",
    "# Reshape the second array to be a 2D array of size (numberofsamples, 1)\n",
    "# print(y)\n",
    "y = y.reshape((y.shape[0], 1))\n",
    "# open the file in append mode\n",
    "with open('Label_FeatureVector.csv', 'w') as f:\n",
    "    f.truncate(0)\n",
    "\n",
    "# open the file in append mode and write new data to it\n",
    "with open('Label_FeatureVector.csv', 'a') as f:\n",
    "    for i in range(0,y.shape[0],23):\n",
    "        # Save in csv file\n",
    "        np.savetxt('Label_FeatureVector.csv',  np.concatenate((y[i:i+23], X[i:i+23]), axis=1), delimiter=',')"
   ]
  },
  {
   "cell_type": "code",
   "execution_count": null,
   "metadata": {},
   "outputs": [],
   "source": []
  },
  {
   "cell_type": "code",
   "execution_count": null,
   "metadata": {},
   "outputs": [],
   "source": []
  },
  {
   "cell_type": "code",
   "execution_count": null,
   "metadata": {},
   "outputs": [],
   "source": []
  }
 ],
 "metadata": {
  "kernelspec": {
   "display_name": "Python 3",
   "language": "python",
   "name": "python3"
  },
  "language_info": {
   "codemirror_mode": {
    "name": "ipython",
    "version": 3
   },
   "file_extension": ".py",
   "mimetype": "text/x-python",
   "name": "python",
   "nbconvert_exporter": "python",
   "pygments_lexer": "ipython3",
   "version": "3.10.0"
  },
  "orig_nbformat": 4
 },
 "nbformat": 4,
 "nbformat_minor": 2
}
