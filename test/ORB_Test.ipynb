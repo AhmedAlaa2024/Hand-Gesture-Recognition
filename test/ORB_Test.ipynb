{
 "cells": [
  {
   "cell_type": "code",
   "execution_count": 20,
   "metadata": {},
   "outputs": [],
   "source": [
    "import numpy as np\n",
    "import cv2\n",
    "%run ../Boxes/ORB_box.ipynb\n",
    "%run ../Boxes/HOG_box.ipynb"
   ]
  },
  {
   "cell_type": "code",
   "execution_count": 21,
   "metadata": {},
   "outputs": [
    {
     "name": "stdout",
     "output_type": "stream",
     "text": [
      "[0.20390192 0.11596765 0.11686417 ... 0.03514536 0.06403738 0.3590571 ]\n"
     ]
    }
   ],
   "source": [
    "# Read the image \n",
    "image = cv2.imread('E:/2nd term 3rd year/Neural Network/Project/men/'+str(2)+'/'+str(2)+'_men ('+str(5)+').JPG', cv2.IMREAD_UNCHANGED)\n",
    "\n",
    "# Convert the color channels from BGR to RGB\n",
    "image = cv2.cvtColor(image, cv2.COLOR_BGR2RGB)\n",
    "Feature_vector = HOG_box(image)\n",
    "print(Feature_vector)"
   ]
  },
  {
   "cell_type": "code",
   "execution_count": 22,
   "metadata": {},
   "outputs": [
    {
     "name": "stdout",
     "output_type": "stream",
     "text": [
      "8100\n"
     ]
    }
   ],
   "source": [
    "print(len(Feature_vector))"
   ]
  },
  {
   "cell_type": "code",
   "execution_count": 23,
   "metadata": {},
   "outputs": [
    {
     "name": "stdout",
     "output_type": "stream",
     "text": [
      "[[231  55 234 ... 116 251 215]\n",
      " [ 88  60 159 ... 224   7  58]\n",
      " [ 63  12 147 ... 247 106 164]\n",
      " ...\n",
      " [122 172  16 ...  76 142  14]\n",
      " [ 32 150 113 ... 203 198 253]\n",
      " [149 183  35 ... 142 222 212]]\n",
      "1000\n"
     ]
    }
   ],
   "source": [
    "image = cv2.imread('E:/2nd term 3rd year/Neural Network/Project/men/'+str(2)+'/'+str(2)+'_men ('+str(5)+').JPG', cv2.IMREAD_UNCHANGED)\n",
    "des=ORB_box(image,1000)\n",
    "print(des)\n",
    "print(len(des))"
   ]
  }
 ],
 "metadata": {
  "kernelspec": {
   "display_name": "Python 3",
   "language": "python",
   "name": "python3"
  },
  "language_info": {
   "codemirror_mode": {
    "name": "ipython",
    "version": 3
   },
   "file_extension": ".py",
   "mimetype": "text/x-python",
   "name": "python",
   "nbconvert_exporter": "python",
   "pygments_lexer": "ipython3",
   "version": "3.11.2"
  },
  "orig_nbformat": 4
 },
 "nbformat": 4,
 "nbformat_minor": 2
}
