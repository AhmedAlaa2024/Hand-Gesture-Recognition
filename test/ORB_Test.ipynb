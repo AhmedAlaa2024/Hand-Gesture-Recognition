{
 "cells": [
  {
   "cell_type": "code",
   "execution_count": 10,
   "metadata": {},
   "outputs": [],
   "source": [
    "import numpy as np\n",
    "import cv2\n",
    "%run ../Boxes/ORB_box.ipynb\n",
    "%run ../Boxes/HOG_box.ipynb"
   ]
  },
  {
   "cell_type": "code",
   "execution_count": 11,
   "metadata": {},
   "outputs": [
    {
     "name": "stdout",
     "output_type": "stream",
     "text": [
      "[0.19748858 0.10310785 0.08663886 ... 0.11992455 0.14227502 0.2891347 ]\n"
     ]
    }
   ],
   "source": [
    "# Read the image \n",
    "image = cv2.imread('E:/2nd term 3rd year/Neural Network/Project/men/'+str(2)+'/'+str(2)+'_men ('+str(5)+').JPG', cv2.IMREAD_UNCHANGED)\n",
    "\n",
    "# Convert the color channels from BGR to RGB\n",
    "image = cv2.cvtColor(image, cv2.COLOR_BGR2RGB)\n",
    "\n",
    "Feature_vector = HOG_box(image)\n",
    "\n",
    "print(Feature_vector)"
   ]
  },
  {
   "cell_type": "code",
   "execution_count": 12,
   "metadata": {},
   "outputs": [
    {
     "name": "stdout",
     "output_type": "stream",
     "text": [
      "[[ 49  32  80 ...   0  98 128]\n",
      " [ 33  32  22 ...   8  18   0]\n",
      " [ 96  32  18 ...   8   2   2]\n",
      " ...\n",
      " [ 66  32  18 ...   0   3   4]\n",
      " [193 112 145 ...  48  66  48]\n",
      " [  0  32  17 ...   0   6  48]]\n"
     ]
    }
   ],
   "source": [
    "image = cv2.imread('E:/2nd term 3rd year/Neural Network/Project/men/'+str(2)+'/'+str(2)+'_men ('+str(5)+').JPG', cv2.IMREAD_UNCHANGED)\n",
    "des=ORB_box(image,1000)\n",
    "print(des)"
   ]
  }
 ],
 "metadata": {
  "kernelspec": {
   "display_name": "Python 3",
   "language": "python",
   "name": "python3"
  },
  "language_info": {
   "codemirror_mode": {
    "name": "ipython",
    "version": 3
   },
   "file_extension": ".py",
   "mimetype": "text/x-python",
   "name": "python",
   "nbconvert_exporter": "python",
   "pygments_lexer": "ipython3",
   "version": "3.11.2"
  },
  "orig_nbformat": 4
 },
 "nbformat": 4,
 "nbformat_minor": 2
}
